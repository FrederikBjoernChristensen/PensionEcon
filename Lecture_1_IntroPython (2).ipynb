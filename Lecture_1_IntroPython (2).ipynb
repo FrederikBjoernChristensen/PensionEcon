{
 "cells": [
  {
   "cell_type": "markdown",
   "metadata": {},
   "source": [
    "# Pension Economics Part 2: Introduction to Quantitative Pension Economics\n",
    "\n",
    "In this part of the course, we gently introduce you to quantitative life cycle models that are often used in economics to study life-cycle planning, retirement decisions, pension systems, and pension system reform.\n",
    "\n",
    "Along the way, there are in-class exercises to illustrate important concepts. We are here to help and hope that you participate actively by solving the exercises. At the end of each exercise, we provide our suggested solution.\n",
    "\n",
    "\n",
    "## What will we be doing?\n",
    "* Economists use different softwares to solve their models\n",
    "    * Python, Matlab, Julia, Fortran, C...\n",
    "    * We will use Python, as it is open source, easy to learn, and extremely popular in both business and research\n",
    "    * When you know one programming language, you basically know them all\n",
    "    \n",
    "    \n",
    "* To run Python, we rely on the Anaconda distribution which can be downloaded here:\n",
    "    * https://docs.anaconda.com/anaconda/install/index.html\n",
    "\n",
    "\n",
    "* With the exception of a few simple exercises, we provide you with all the code you need\n",
    "    * And if you have a question, do not hesitate to ask for help\n",
    "\n",
    "\n",
    "* Nothing can go wrong! So don't be afraid to play around with the code\n",
    "\n",
    "\n",
    "\n",
    "## Why are quantitative models important?\n",
    "### Toy models are useful for intuition\n",
    "* Provide simple but useful economic insights about\n",
    "    * Consumption-saving decisions\n",
    "    * Basic structure of different pension systems\n",
    "    * In models not covered here, they can also provide insights on labor supply etc.\n",
    "\n",
    "\n",
    "* Can be solved pen-to-paper on a so called closed form\n",
    "    * Example of equation with a closed form:    \n",
    "        \\begin{align*}\n",
    "            exp\\left(x\\right)=5 \\longrightarrow x = ln\\left(5\\right)\n",
    "        \\end{align*}\n",
    "    * Example of equation without a closed form:\n",
    "        \\begin{align*}\n",
    "            exp\\left(x\\right)+x=5 \\longrightarrow x = ?\n",
    "        \\end{align*}\n",
    "    * Without closed-form solutions, we can sometimes compute a numerical solution using computational methods!\n",
    "\n",
    "\n",
    "* Simple models often guide our ideas for more sophisticated models\n",
    "    * Large models and their results are often hard to interpret (Black box)\n",
    "    * In many cases, basic intuition is the economist's best friend\n",
    "\n",
    "\n",
    "### However, toy models are often too restrictive for modeling real-world outcomes\n",
    "* Require long decision horizons\n",
    "    * People rarely make decision plans over 30 or 40 year periods\n",
    "    * Makes it hard to compare model outcomes to data at shorter frequencies (monthly, quaterly, or yearly)\n",
    "\n",
    "\n",
    "* Require a limited number of variables\n",
    "    * Modeling individual choices other than consumption and labor quickly increases complexity\n",
    "\n",
    "\n",
    "* And more...\n",
    "    * Hard to solve models with uncertainty, e.g. income shocks, or return shocks\n",
    "    * Hard to solve models with non-convexities, e.g. a borrowing constraint\n",
    "    * Hard to solve models with non-monotonic preferences, e.g. bequest or preferences for luxury goods\n",
    "    * Hard to solve models with ex-ante heterogeneous agents, e.g. over a skill distribution\n",
    "    * Hard to match rigid toy models to real-world data, e.g. matching the wealth distribution\n",
    "            \n",
    "            \n",
    "### When toy models are insufficient, economists often look to computational models\n",
    "* Computational solution methods allow us to solve any well-defined problem if given enough time\n",
    "    * In this course, we consider computational models that solve relatively fast\n",
    "    * Nonetheless, it is not uncommon for larger models to take days, weeks, or even months to compute\n",
    "    \n",
    "\n",
    "\n",
    "# Lecture 1: An Introduction to Python\n",
    "## The agenda for today\n",
    "1. Importing\n",
    "    * Importing packages to Python\n",
    "    * Importing data sets to Python\n",
    "\n",
    "\n",
    "2. Theory on data types\n",
    "    * Number formats, vectors, matrices, arrays, etc.\n",
    "    * Indexing in Python\n",
    "\n",
    "\n",
    "3. Basic operations\n",
    "    * Defining objects (=)\n",
    "    * Arithmetic (+,-,/,*)\n",
    "    * Linear algebra (*,@,.T)\n",
    "    * Sums ($\\Sigma$) and products ($\\Pi$)\n",
    "    * Loops (for and while), logical statements (if, and, or)\n",
    "    * Functions, f(), with multiple inputs and outputs\n",
    "    * Plotting, line plots, bar plots\n",
    "    * Numerical optimization"
   ]
  },
  {
   "cell_type": "markdown",
   "metadata": {},
   "source": [
    "## 1. Importing packages and data\n",
    "* Functions that we may need are not always part of the base package in Python\n",
    "* Instead we have to import packages that contain the relevant functions\n",
    "\n",
    "Here we import the most widely used package of all; Numpy. This package contains most of the functions needed for the purposes of the first lecture."
   ]
  },
  {
   "cell_type": "code",
   "execution_count": null,
   "metadata": {},
   "outputs": [],
   "source": [
    "import numpy as np"
   ]
  },
  {
   "cell_type": "markdown",
   "metadata": {},
   "source": [
    "From now on, \"np.\" will be our shorthand for accessing functions within Numpy. For an example on the usage of Numpy, see the section on data types below.\n",
    "\n",
    "We also load a small dataset containing projected mortality rates for Danish males in year 2100. We use this data set in some of today's examples. To load the file \"Mortality.csv\", we use the package Pandas that deals with dataframes."
   ]
  },
  {
   "cell_type": "code",
   "execution_count": null,
   "metadata": {},
   "outputs": [],
   "source": [
    "import pandas as pd\n",
    "df = pd.read_csv('Mortality.csv', sep=',', header=None)\n",
    "mortal = np.array(df.values)"
   ]
  },
  {
   "cell_type": "markdown",
   "metadata": {},
   "source": [
    "## 2. Data types\n",
    "Python is typically versatile and allows us to work with mixed data types. However, sometimes it requires one or more objects to be of specific types in order to perform certain operations. Therefore, we briefly cover the most used types.\n",
    "\n",
    "First, we cover scalar types, of which there are several. For our purposes, the most important types of scalars are:\n",
    "* Integers: 1, 2, 3, 4\n",
    "    * Come in different variants: Int16, Int32, Int64\n",
    "    * In this course, we do not care about the variant\n",
    "    \n",
    "\n",
    "* Floats: 1.0, 1.5, 10.99, 0.000001\n",
    "    * Also come in different variants: Float16, Float32, Float64\n",
    "    * Again, we do not care about the variant\n",
    "\n",
    "\n",
    "* Strings: 'Hello world!', 'Pension Economics' \n",
    "    * Non-numeric values, i.e. names or messages\n",
    "\n",
    "\n",
    "* Boolean: (True, False) or (0,1)\n",
    "    * Logical indicators stored as a single byte\n",
    "    * We use these for logical statements\n",
    "    \n",
    "\n",
    "Next, we consider higher dimensional data structures:\n",
    "* Arrays: Containing multiple objects in several dimensions\n",
    "    * Have a fixed size along each dimension\n",
    "    * Data must always be of the same type for all elements\n",
    "    * 1d array: Vector\n",
    "    * 2d array: Matrix\n",
    "    * Nd array: Matrix in Nd\n",
    "\n",
    "\n",
    "* Other types not covered today but worth knowing: \n",
    "    * Lists, tuples, structs, dictionaries etc."
   ]
  },
  {
   "cell_type": "code",
   "execution_count": null,
   "metadata": {},
   "outputs": [],
   "source": [
    "# Strings\n",
    "MyString = 'Hello world!'\n",
    "print(type(MyString))\n",
    "print(MyString)"
   ]
  },
  {
   "cell_type": "code",
   "execution_count": null,
   "metadata": {},
   "outputs": [],
   "source": [
    "# Integers\n",
    "MyInteger = 10\n",
    "print(type(MyInteger))"
   ]
  },
  {
   "cell_type": "code",
   "execution_count": null,
   "metadata": {},
   "outputs": [],
   "source": [
    "# Floats\n",
    "MyFloat = 10.0\n",
    "print(type(MyFloat))"
   ]
  },
  {
   "cell_type": "code",
   "execution_count": null,
   "metadata": {},
   "outputs": [],
   "source": [
    "# 1d Arrays using numpy\n",
    "MyArray1d = np.array([1,1,2,3,5,8,13,21])\n",
    "print(type(MyArray1d))\n",
    "print(np.shape(MyArray1d))\n",
    "print(MyArray1d)"
   ]
  },
  {
   "cell_type": "code",
   "execution_count": null,
   "metadata": {},
   "outputs": [],
   "source": [
    "# Indexing a 1d array\n",
    "print(MyArray1d[0])    # First element indexed at zero!\n",
    "print(MyArray1d[0:4])  # First to fourth element\n",
    "print(MyArray1d[-1])   # Last element"
   ]
  },
  {
   "cell_type": "code",
   "execution_count": null,
   "metadata": {},
   "outputs": [],
   "source": [
    "# 2d Arrays using numpy\n",
    "MyArray2d = np.array([[1,2],[3,4]])\n",
    "print(type(MyArray2d))\n",
    "print(np.shape(MyArray2d))\n",
    "print(MyArray2d)"
   ]
  },
  {
   "cell_type": "code",
   "execution_count": null,
   "metadata": {},
   "outputs": [],
   "source": [
    "# Indexing a 2d array\n",
    "print(MyArray2d[0,1]) # Indexing element (1,2)"
   ]
  },
  {
   "cell_type": "markdown",
   "metadata": {},
   "source": [
    "To see the usefulness of knowing about types, we could try and change the first element in our array, MyArray1d, of integers by our string, MyString. This will give an error, as we are (deliberately) confusing data types."
   ]
  },
  {
   "cell_type": "code",
   "execution_count": null,
   "metadata": {},
   "outputs": [],
   "source": [
    "MyArray1d[0] = MyString"
   ]
  },
  {
   "cell_type": "markdown",
   "metadata": {},
   "source": [
    "## 3. Basic Operations\n",
    "### Defining objects\n",
    "To keep information in storage in Python, so that we can always access that information again, we can define objects using the \"=\" operator. Below, we define five scalar numbers of the \"Float\" type."
   ]
  },
  {
   "cell_type": "code",
   "execution_count": null,
   "metadata": {},
   "outputs": [],
   "source": [
    "A = 2.0\n",
    "B = 5.0\n",
    "C = 6.0\n",
    "D = 10.0\n",
    "E = 20.0"
   ]
  },
  {
   "cell_type": "markdown",
   "metadata": {},
   "source": [
    "### Arithmetic\n",
    "First, we go over the simplest commands by computing and printing:\n",
    "\\begin{align*}\n",
    "    F = \\dfrac{\\left(A + B - C\\right)D}{E}\n",
    "\\end{align*}\n",
    "Next, we illustrate how to take powers by computing $G=F^2$."
   ]
  },
  {
   "cell_type": "code",
   "execution_count": null,
   "metadata": {},
   "outputs": [],
   "source": [
    "# All basic arithmetic operations in one line\n",
    "F = (A + B - C)*D/E\n",
    "print('F =',F)\n",
    "\n",
    "# Taking the second power\n",
    "G = F**2\n",
    "print('G =',G)               "
   ]
  },
  {
   "cell_type": "markdown",
   "metadata": {},
   "source": [
    "### Linear Algebra\n",
    "First, we cover a few simple commands from the world of linear algebra; Namely transposition, matrix multiplication, and elementwise matrix multiplication.\n",
    "\n",
    "Consider a matrix, $A$:\n",
    "\\begin{align*}\n",
    "    A & =\\left(\\begin{array}{cc}\n",
    "    1 & 2\\\\\n",
    "    3 & 4\n",
    "    \\end{array}\\right)\n",
    "\\end{align*}\n",
    "We can then compute the transpose of this matrix, denoted by $A^\\prime$ as follows:"
   ]
  },
  {
   "cell_type": "code",
   "execution_count": null,
   "metadata": {},
   "outputs": [],
   "source": [
    "# Define a 2d array named A\n",
    "A = np.array([[1,2],[3,4]])\n",
    "\n",
    "# Take the transpose\n",
    "print('A =',A.T)"
   ]
  },
  {
   "cell_type": "markdown",
   "metadata": {},
   "source": [
    "Consider a second matrix $B$:\n",
    "\\begin{align*}\n",
    "    B & =\\left(\\begin{array}{cc}\n",
    "    2 & 4\\\\\n",
    "    3 & 5\n",
    "    \\end{array}\\right)\n",
    "\\end{align*}\n",
    "Elementwise multiplication of two matrices multiplies only elements in correponding positions:\n",
    "\\begin{align*}\n",
    "    A*B=\\left(\\begin{array}{cc}\n",
    "    2 & 8\\\\\n",
    "    9 & 20\n",
    "\\end{array}\\right)\n",
    "\\end{align*}\n",
    "In Python, we obtain the matrix $C$ as the output of elementwise multiplication in the following way:"
   ]
  },
  {
   "cell_type": "code",
   "execution_count": null,
   "metadata": {},
   "outputs": [],
   "source": [
    "# Define a 2d array named B\n",
    "B = np.array([[2,4],[3,5]])\n",
    "\n",
    "# Elementwise multiplication\n",
    "C = A*B\n",
    "print('C =',C)"
   ]
  },
  {
   "cell_type": "markdown",
   "metadata": {},
   "source": [
    "Matrix multiplication (dot product), on the other hand, is more complex. Here, we multiply all the \"rows\" of $A$ over all the \"columns\" of $B$. For instance, if we overwrite the matrix $C$, the first element of the output matrix of matrix multiplication is $c_{1,1}=1*2 + 2*3=8$.\n",
    "\n",
    "In Python, we implement this as:"
   ]
  },
  {
   "cell_type": "code",
   "execution_count": null,
   "metadata": {},
   "outputs": [],
   "source": [
    "# Matrix multiplication (dot product)\n",
    "C = A @ B\n",
    "print('C =',C)"
   ]
  },
  {
   "cell_type": "markdown",
   "metadata": {},
   "source": [
    "## Sums and Products\n",
    "Next, we take a look at sums and products. This will be very useful for developing our model later.\n",
    "\n",
    "A simple sum over the entries of a vector $A$ of size $N$, over elements 1 to n reads:\n",
    "\\begin{align*}\n",
    "    sum\\left(A\\right) & =\\sum_{i=1}^{n}a_{i}\\\\\n",
    "     & =a_{1}+a_{2}\\ldots+a_{n}\n",
    "\\end{align*}"
   ]
  },
  {
   "cell_type": "code",
   "execution_count": null,
   "metadata": {},
   "outputs": [],
   "source": [
    "# Sum over the 1d array from earlier\n",
    "print(np.sum(MyArray1d))\n",
    "\n",
    "# We can carry out this operation over particular dimensions of matrices as well\n",
    "print(np.sum(A,0)) # Over first dimension\n",
    "print(np.sum(A,1)) # Over second dimension\n",
    "print(np.sum(A))   # Over both dimensions"
   ]
  },
  {
   "cell_type": "markdown",
   "metadata": {},
   "source": [
    "A product over elements 1 to n from some array, A, on the other hand, could look like:\n",
    "\\begin{align*}\n",
    "    prod\\left(A\\right) & =\\prod_{i=1}^{n}a_{i}\\\\\n",
    "     & =a_{1}\\cdot a_{2}\\cdot a_{n}\n",
    "\\end{align*}"
   ]
  },
  {
   "cell_type": "code",
   "execution_count": null,
   "metadata": {},
   "outputs": [],
   "source": [
    "# Taking a product over the 1d array from earlier in the lecture\n",
    "print(np.prod(MyArray1d))"
   ]
  },
  {
   "cell_type": "markdown",
   "metadata": {},
   "source": [
    "We can also take cumulative products that compute products from 1 to $n\\forall n \\in N$."
   ]
  },
  {
   "cell_type": "code",
   "execution_count": null,
   "metadata": {},
   "outputs": [],
   "source": [
    "# Taking the cumulative product over the 1d array from earlier in the lecture\n",
    "print(np.cumprod(MyArray1d))"
   ]
  },
  {
   "cell_type": "markdown",
   "metadata": {},
   "source": [
    "Next, we use cumprod() and sum() to compute the life expectancy (LE) of a 20-year old in $2100$, using the mortality rates loaded earlier. Life expectancy reads:\n",
    "\\begin{align*}\n",
    "    LE_{20} & = 20 + \\sum_{t=1}^{T}\\prod_{j=1}^{t}\\psi_{t}\n",
    "\\end{align*}\n",
    "where $\\psi_t=1-mortal_t$ denotes conditional survival rates from age $t$ to $t+1$."
   ]
  },
  {
   "cell_type": "code",
   "execution_count": null,
   "metadata": {},
   "outputs": [],
   "source": [
    "# Converting mortality rates into survival rates\n",
    "Ψ = 1 - mortal[:,1]\n",
    "\n",
    "# Computing life expectancy at 20 in 2100\n",
    "LE = 20 + np.sum(np.cumprod(Ψ))\n",
    "LE"
   ]
  },
  {
   "cell_type": "markdown",
   "metadata": {},
   "source": [
    "### Exercise 1\n",
    "1. Compute life expectancy conditional on making it to age 40.\n",
    "    * Is it higher or lower than before? Why?\n",
    "    * Differences are small. Why is that?"
   ]
  },
  {
   "cell_type": "code",
   "execution_count": null,
   "metadata": {},
   "outputs": [],
   "source": [
    "# Exercise 1 here"
   ]
  },
  {
   "cell_type": "markdown",
   "metadata": {},
   "source": [
    "## Logical operators\n",
    "A logical statement can be either True or False.\n",
    "\n",
    "Let us first consider the tautology $A=A$, and it's negation $A\\neq A$. The first is True, while the other is False. In Python, we could check the validity of each statement in the following way:"
   ]
  },
  {
   "cell_type": "code",
   "execution_count": null,
   "metadata": {},
   "outputs": [],
   "source": [
    "A = 1       # A could be anything\n",
    "print(A==A) # Is equal to (==)\n",
    "print(A!=A) # Is not equal to (!=)"
   ]
  },
  {
   "cell_type": "markdown",
   "metadata": {},
   "source": [
    "You are probably also familiar with the operators $<$, $>$,$\\geq$, and $\\leq$. In Python these are represented by:"
   ]
  },
  {
   "cell_type": "code",
   "execution_count": null,
   "metadata": {},
   "outputs": [],
   "source": [
    "print(A > 1)\n",
    "print(A < 1)\n",
    "print(A >= 1)\n",
    "print(A <= 1)"
   ]
  },
  {
   "cell_type": "markdown",
   "metadata": {},
   "source": [
    "Logical operators allow us to do certain computations only conditional on some requirement being fulfilled. In the following example, we use an if-statement to print that a certain process was a succes, only if the hypothesis $A>0$ is True. Otherwise it reports that the process was a failure."
   ]
  },
  {
   "cell_type": "code",
   "execution_count": null,
   "metadata": {},
   "outputs": [],
   "source": [
    "if A>0:\n",
    "    print('Success')\n",
    "else:\n",
    "    print('Failure')"
   ]
  },
  {
   "cell_type": "markdown",
   "metadata": {},
   "source": [
    "Next, we consider two additional logical operators; And & Or. And statements require all conditions to hold in order to be True. On the other hand, Or conditions are True as long as just one statement out of many holds."
   ]
  },
  {
   "cell_type": "code",
   "execution_count": null,
   "metadata": {},
   "outputs": [],
   "source": [
    "B = 2\n",
    "\n",
    "print(A>0 and B>1)\n",
    "print(A>0 or B<1)"
   ]
  },
  {
   "cell_type": "markdown",
   "metadata": {},
   "source": [
    "# Loops\n",
    "The concept of looping is powerful in many cases of performing recursive tasks. Loops come in two versions; for-loops and while-loops.\n",
    "\n",
    "We start out with the for-loop. Consider an example, where we first create an empty storage container for our results and subsequently fill out the storage container with the recursion $V_{t+1}=V_{t} + 1$ for $t\\in 1,...,T$, starting from $V_{0}=0$."
   ]
  },
  {
   "cell_type": "code",
   "execution_count": null,
   "metadata": {},
   "outputs": [],
   "source": [
    "T = 70\n",
    "V = np.zeros(T)\n",
    "\n",
    "# A for-loop\n",
    "for t in range(1,T,1):\n",
    "    V[t] =  V[t-1] + 1   \n",
    "V"
   ]
  },
  {
   "cell_type": "markdown",
   "metadata": {},
   "source": [
    "Unlike the for-loop, a while-loop need not run for a fixed number of iterations. Instead, it terminates as soon as some logical statement goes from being True to being False. In the third lecture in this part of the course, we are going to use a while loop. So let us take a deeper look.\n",
    "\n",
    "As an example of a while-loop, we can do exactly the same operations as before as shown below:"
   ]
  },
  {
   "cell_type": "code",
   "execution_count": null,
   "metadata": {},
   "outputs": [],
   "source": [
    "V = np.zeros(T)\n",
    "\n",
    "# A while-loop\n",
    "t = 0\n",
    "while t<T-1:\n",
    "    t =  t + 1\n",
    "    V[t] = V[t-1] + 1\n",
    "V"
   ]
  },
  {
   "cell_type": "markdown",
   "metadata": {},
   "source": [
    "## Functions\n",
    "Python allows us to define custom functions. Here, we define a utility function that we use in the next couple of lectures. Specifically, we use the constant-relative-risk-aversion (CRRA) utility function that has logarithmic utility as a special case. In mathematical terms, CRRA-utility is defined as:\n",
    "\\begin{equation}\n",
    "    u(c) = \\begin{cases}\n",
    "    \\dfrac{c^{1-\\sigma}-1}{1-\\sigma} & \\sigma\\geq0,\\sigma\\neq1 \\\\\\\n",
    "    \\log(c) & \\sigma=1\n",
    "\\end{cases}\n",
    "\\end{equation}\n",
    "\n",
    "The parameter $\\sigma$ determines the intertemporal elasticity of substitution (IES). That is, how willing are agents to shift consumption over time. When the elasticity is finite, agents always prefer to consume a positive amount in both periods, rather than consuming everything in one period.\n",
    "\n",
    "We can formalize CRRA in Python by writing a function taking two inputs, $c$ and $\\sigma$, and giving as output the utility level, $u$. This can be written as:"
   ]
  },
  {
   "cell_type": "code",
   "execution_count": null,
   "metadata": {},
   "outputs": [],
   "source": [
    "# Defining the function \"utility()\"\n",
    "def utility(c,sigma):\n",
    "    if sigma==1:\n",
    "        u = np.log(c)\n",
    "    else:\n",
    "        u = (c**(1 - sigma) - 1)/(1 - sigma)\n",
    "    return u"
   ]
  },
  {
   "cell_type": "code",
   "execution_count": null,
   "metadata": {},
   "outputs": [],
   "source": [
    "# The function is then callable\n",
    "utility(5,2)"
   ]
  },
  {
   "cell_type": "markdown",
   "metadata": {},
   "source": [
    "As you have seen in previous lectures, the concept of marginal utility is useful in solving utility maximization problems. Therefore, we take a closer look at marginal utility in the CRRA case. This reads:\n",
    "\\begin{align*}\n",
    "    u^\\prime\\left(c\\right)=c^{-\\sigma}\n",
    "\\end{align*}\n",
    "which has the marginal utility of $log\\left(c\\right)$ as its limiting case when $\\sigma \\rightarrow 1$.\n",
    "\n",
    "\n",
    "### Exercise 2\n",
    "\n",
    "A custom Python function can easily output multiple values at once. This can be done by using the syntax \"return x,y,z,...\" at the end of the function.\n",
    "1. Using this syntax, rewrite the function above to output both utility and marginal utility from the same function"
   ]
  },
  {
   "cell_type": "code",
   "execution_count": null,
   "metadata": {},
   "outputs": [],
   "source": [
    "# Exercise 2 here"
   ]
  },
  {
   "cell_type": "markdown",
   "metadata": {},
   "source": [
    "## Plotting\n",
    "Next, we want to learn how to plot in Python. This first requires choosing a plotting package, of which there are several.\n",
    "* Matplotlib, Plotly, ggplot, etc.\n",
    "\n",
    "\n",
    "Matplotlib is probably the most widely used, and it is well-suited for our purposes. Thus, we import matplotlib.pyplot:"
   ]
  },
  {
   "cell_type": "code",
   "execution_count": null,
   "metadata": {},
   "outputs": [],
   "source": [
    "# Plotting requires special packages. We use:\n",
    "import matplotlib.pyplot as plt"
   ]
  },
  {
   "cell_type": "markdown",
   "metadata": {},
   "source": [
    "To illustrate by example, we plot the utility function over consumption for different calibrations of $\\sigma$. First, we define a vector, $\\boldsymbol{c}$, containing all the consumption levels at which we evaluate the utility function. Next, we pass the entire consumption vector as an argument to the utility function. This allows us to compute the entire utility vector in an elementwise way, using a single command. This only works, because we specified the utility function exclusively using elementwise operations on $c$.\n",
    "\n",
    "The same is not true for the way we specified $\\sigma$. Here, the if-statement takes only scalar values. So if we for instance want to call the function for both $\\sigma=1$ and for $\\sigma=1.5$, we have to do it twice. Of course we could circumvent this, but we skip this for now."
   ]
  },
  {
   "cell_type": "code",
   "execution_count": null,
   "metadata": {},
   "outputs": [],
   "source": [
    "# Define the consumption vector\n",
    "c = np.linspace(0.1,2.0,100) # 100 evenly spaced levels of consumption from c=0.1 to c=2.0\n",
    "\n",
    "# Compute utility at each element of C for two different risk aversion parameters\n",
    "u1 = utility(c,1.0) # sigma=1, the log case\n",
    "u2 = utility(c,1.5) # sigma=1.5, general case"
   ]
  },
  {
   "cell_type": "markdown",
   "metadata": {},
   "source": [
    "Now, we can plot $u\\left(c\\right)$ as a function of c as shown below, using some useful commands from matplotlib.pyplot:"
   ]
  },
  {
   "cell_type": "code",
   "execution_count": null,
   "metadata": {},
   "outputs": [],
   "source": [
    "# Modify some size settings\n",
    "plt.rcParams['figure.figsize'] = [6, 4] \n",
    "\n",
    "# Plot\n",
    "plt.plot(c,u1)                                  # plotting the log case\n",
    "plt.plot(c,u2)                                  # plotting the case with sigma\n",
    "plt.legend(['$\\sigma=1.0$','$\\sigma=1.5$'])     # add a plot legend\n",
    "plt.title('CRRA Utility')                       # add plot title\n",
    "plt.xlabel('Consumption, c')                    # add x-axis title \n",
    "plt.ylabel('Utility')                           # add y-axis title \n",
    "plt.grid(True, which='both')                    # add grid to the plot \n",
    "plt.show()                                      # show the plot"
   ]
  },
  {
   "cell_type": "markdown",
   "metadata": {},
   "source": [
    "### Exercise 3\n",
    "1. Utility is negative\n",
    "    * Which parameter causes that?\n",
    "    * Is this a problem for the two-period model you have seen?\n",
    "\n",
    "\n",
    "2. In Exercise 2, we defined a function to compute marginal utility. Plot the marginal utility function for both $\\rho=1$ and $\\rho=1.5$, and change the layout of the plot appropriately.\n",
    "\n",
    "\n",
    "3. Plot the conditional survival rates at each age in $\\Psi$.\n",
    "\n",
    "\n",
    "4. Plot the unconditional survival rates (product over $\\Psi$)."
   ]
  },
  {
   "cell_type": "code",
   "execution_count": null,
   "metadata": {},
   "outputs": [],
   "source": [
    "# 3.1 here"
   ]
  },
  {
   "cell_type": "code",
   "execution_count": null,
   "metadata": {},
   "outputs": [],
   "source": [
    "# 3.2 here"
   ]
  },
  {
   "cell_type": "code",
   "execution_count": null,
   "metadata": {},
   "outputs": [],
   "source": [
    "# 3.3 here"
   ]
  },
  {
   "cell_type": "code",
   "execution_count": null,
   "metadata": {},
   "outputs": [],
   "source": [
    "# 3.4 here"
   ]
  },
  {
   "cell_type": "markdown",
   "metadata": {},
   "source": [
    "## Optional: Numerical Optimization \n",
    "When equations or systems of equations do not have closed-form solutions, we can sometimes still compute the solution numerically. This section is meant to illustrate the concept of numerical solutions in the simplest possible way.\n",
    "\n",
    "Recall the equations from the introduction, $exp\\left(x\\right)=5$ and the extension $exp\\left(x\\right)+x=5$. The first equation is easy to solve as the solution has the closed form: $x=log(5)$"
   ]
  },
  {
   "cell_type": "code",
   "execution_count": null,
   "metadata": {},
   "outputs": [],
   "source": [
    "x_solution = np.log(5)\n",
    "print('x =',x_solution)"
   ]
  },
  {
   "cell_type": "markdown",
   "metadata": {},
   "source": [
    "In contrast, the equation $exp\\left(x\\right)+x=5$ cannot be solved in closed form. Hence, we need the computer to solve it for us. For this, we have to define a so-called objective function, which in our case is:\n",
    "$f_{objective}(x)=exp\\left(x\\right)+x-5=0$"
   ]
  },
  {
   "cell_type": "code",
   "execution_count": null,
   "metadata": {},
   "outputs": [],
   "source": [
    "def f_objective(x):\n",
    "    return np.exp(x) + x - 5"
   ]
  },
  {
   "cell_type": "markdown",
   "metadata": {},
   "source": [
    "First, we import a package for numerical solutions. We can choose from several packages, but the simplest way is to use the fsolve procedure from the Scipy.optimize package."
   ]
  },
  {
   "cell_type": "code",
   "execution_count": null,
   "metadata": {},
   "outputs": [],
   "source": [
    "from scipy.optimize import fsolve"
   ]
  },
  {
   "cell_type": "markdown",
   "metadata": {},
   "source": [
    "Next, we define an initial guess $x_0$ and call the fsolve() to find the root of our objective funciton. We show this below:"
   ]
  },
  {
   "cell_type": "code",
   "execution_count": null,
   "metadata": {},
   "outputs": [],
   "source": [
    "# Start the procedure by guessing a solution candidate\n",
    "x0 = 1.0\n",
    "\n",
    "# Next, let fsolve do it's magic!\n",
    "sol = fsolve(f_objective,x0)\n",
    "print(\"x =\",sol)\n",
    "print(\"f =\",f_objective(sol))"
   ]
  }
 ],
 "metadata": {
  "kernelspec": {
   "display_name": "Python 3",
   "language": "python",
   "name": "python3"
  },
  "language_info": {
   "codemirror_mode": {
    "name": "ipython",
    "version": 3
   },
   "file_extension": ".py",
   "mimetype": "text/x-python",
   "name": "python",
   "nbconvert_exporter": "python",
   "pygments_lexer": "ipython3",
   "version": "3.8.5"
  }
 },
 "nbformat": 4,
 "nbformat_minor": 4
}
